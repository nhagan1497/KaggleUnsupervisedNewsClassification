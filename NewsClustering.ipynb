{
 "cells": [
  {
   "cell_type": "code",
   "execution_count": 1,
   "id": "676f9788-2f0f-44e6-8d8b-749f6d9a8281",
   "metadata": {},
   "outputs": [],
   "source": [
    "import re\n",
    "\n",
    "from gensim import corpora, models\n",
    "from nltk.corpus import stopwords\n",
    "from nltk.tokenize import word_tokenize\n",
    "from nltk.stem import PorterStemmer\n",
    "from gensim.models import Phrases\n",
    "from gensim.models.phrases import Phraser\n",
    "\n",
    "import pandas as pd\n",
    "import matplotlib.pyplot as plt\n",
    "import numpy as np\n",
    "\n",
    "class TopicAnalysis:\n",
    "    def __init__(self):\n",
    "        self.lda_model = None\n",
    "        self.vectorizer = None\n",
    "\n",
    "    @staticmethod\n",
    "    def preprocess_text(text):\n",
    "        stop_words = set(stopwords.words('english'))\n",
    "        ps = PorterStemmer()\n",
    "        \n",
    "        text = re.sub(r'[,.!?{}%\\[\\]#()]', '', text)\n",
    "        text = re.sub(r'\\n+', ' ', text)\n",
    "\n",
    "        # Remove special characters\n",
    "        text = re.sub(r'[^\\w\\s]', '', text)\n",
    "        text = text.lower()\n",
    "        \n",
    "        tokens = word_tokenize(text)  # Tokenization\n",
    "        tokens = [token for token in tokens if\n",
    "                  token.isalpha() and token not in stop_words and len(token) > 1]  # Remove non-alphanumeric and stop words\n",
    "    \n",
    "        stemmed_tokens = [ps.stem(token) for token in tokens]\n",
    "        \n",
    "        return stemmed_tokens\n",
    "\n",
    "    def train_model(self, training_column, num_topics, save_visual=False):\n",
    "        all_texts = training_column.apply(TopicAnalysis.preprocess_text)\n",
    "        \n",
    "        self.dictionary = corpora.Dictionary(all_texts)\n",
    "        corpus = [self.dictionary.doc2bow(text) for text in all_texts]\n",
    "\n",
    "        self.lda_model = models.LdaModel(corpus, num_topics=num_topics, id2word=self.dictionary, passes=10, random_state=42)\n",
    "    \n",
    "    def model_text(self, document):\n",
    "        text = TopicAnalysis.preprocess_text(document)\n",
    "        corpus = self.dictionary.doc2bow(text)\n",
    "        values = self.lda_model.get_document_topics(corpus)\n",
    "\n",
    "        return_topics = [0.0 for key in range(5)]\n",
    "        for value in values:\n",
    "            return_topics[value[0]] = value[1]\n",
    "        return return_topics\n",
    "\n"
   ]
  },
  {
   "cell_type": "markdown",
   "id": "eb696abc-3b0a-4595-ae1b-f8367e6a5e87",
   "metadata": {},
   "source": [
    "This class does some basic pre-processing and lemmatizes the words. Then it performs topic analysis on the resulting corpus. I've set the number of topics to 5 since we have 5 given categories."
   ]
  },
  {
   "cell_type": "code",
   "execution_count": 2,
   "id": "a458a63e-ccee-4f86-a873-3392f60fa0e6",
   "metadata": {},
   "outputs": [],
   "source": [
    "folder = 'C:\\\\Users\\\\natha\\\\Documents\\\\PythonNotebooks\\\\data\\\\News\\\\'\n",
    "df_train = pd.read_csv(folder + 'BBC News Train.csv')\n",
    "df_test = pd.read_csv(folder + 'BBC News Test.csv')"
   ]
  },
  {
   "cell_type": "code",
   "execution_count": 3,
   "id": "b61b7f61-a567-4e18-947c-edf0b4bdc565",
   "metadata": {},
   "outputs": [
    {
     "data": {
      "text/html": [
       "<div>\n",
       "<style scoped>\n",
       "    .dataframe tbody tr th:only-of-type {\n",
       "        vertical-align: middle;\n",
       "    }\n",
       "\n",
       "    .dataframe tbody tr th {\n",
       "        vertical-align: top;\n",
       "    }\n",
       "\n",
       "    .dataframe thead th {\n",
       "        text-align: right;\n",
       "    }\n",
       "</style>\n",
       "<table border=\"1\" class=\"dataframe\">\n",
       "  <thead>\n",
       "    <tr style=\"text-align: right;\">\n",
       "      <th></th>\n",
       "      <th>ArticleId</th>\n",
       "      <th>Text</th>\n",
       "      <th>Category</th>\n",
       "    </tr>\n",
       "  </thead>\n",
       "  <tbody>\n",
       "    <tr>\n",
       "      <th>0</th>\n",
       "      <td>1833</td>\n",
       "      <td>worldcom ex-boss launches defence lawyers defe...</td>\n",
       "      <td>business</td>\n",
       "    </tr>\n",
       "    <tr>\n",
       "      <th>1</th>\n",
       "      <td>154</td>\n",
       "      <td>german business confidence slides german busin...</td>\n",
       "      <td>business</td>\n",
       "    </tr>\n",
       "    <tr>\n",
       "      <th>2</th>\n",
       "      <td>1101</td>\n",
       "      <td>bbc poll indicates economic gloom citizens in ...</td>\n",
       "      <td>business</td>\n",
       "    </tr>\n",
       "    <tr>\n",
       "      <th>3</th>\n",
       "      <td>1976</td>\n",
       "      <td>lifestyle  governs mobile choice  faster  bett...</td>\n",
       "      <td>tech</td>\n",
       "    </tr>\n",
       "    <tr>\n",
       "      <th>4</th>\n",
       "      <td>917</td>\n",
       "      <td>enron bosses in $168m payout eighteen former e...</td>\n",
       "      <td>business</td>\n",
       "    </tr>\n",
       "  </tbody>\n",
       "</table>\n",
       "</div>"
      ],
      "text/plain": [
       "   ArticleId                                               Text  Category\n",
       "0       1833  worldcom ex-boss launches defence lawyers defe...  business\n",
       "1        154  german business confidence slides german busin...  business\n",
       "2       1101  bbc poll indicates economic gloom citizens in ...  business\n",
       "3       1976  lifestyle  governs mobile choice  faster  bett...      tech\n",
       "4        917  enron bosses in $168m payout eighteen former e...  business"
      ]
     },
     "execution_count": 3,
     "metadata": {},
     "output_type": "execute_result"
    }
   ],
   "source": [
    "df_train.head()"
   ]
  },
  {
   "cell_type": "code",
   "execution_count": 4,
   "id": "e08a6936-4588-4cb5-a4bb-f01c853d8d8c",
   "metadata": {},
   "outputs": [
    {
     "data": {
      "text/html": [
       "<div>\n",
       "<style scoped>\n",
       "    .dataframe tbody tr th:only-of-type {\n",
       "        vertical-align: middle;\n",
       "    }\n",
       "\n",
       "    .dataframe tbody tr th {\n",
       "        vertical-align: top;\n",
       "    }\n",
       "\n",
       "    .dataframe thead th {\n",
       "        text-align: right;\n",
       "    }\n",
       "</style>\n",
       "<table border=\"1\" class=\"dataframe\">\n",
       "  <thead>\n",
       "    <tr style=\"text-align: right;\">\n",
       "      <th></th>\n",
       "      <th>ArticleId</th>\n",
       "      <th>Text</th>\n",
       "    </tr>\n",
       "  </thead>\n",
       "  <tbody>\n",
       "    <tr>\n",
       "      <th>0</th>\n",
       "      <td>1018</td>\n",
       "      <td>qpr keeper day heads for preston queens park r...</td>\n",
       "    </tr>\n",
       "    <tr>\n",
       "      <th>1</th>\n",
       "      <td>1319</td>\n",
       "      <td>software watching while you work software that...</td>\n",
       "    </tr>\n",
       "    <tr>\n",
       "      <th>2</th>\n",
       "      <td>1138</td>\n",
       "      <td>d arcy injury adds to ireland woe gordon d arc...</td>\n",
       "    </tr>\n",
       "    <tr>\n",
       "      <th>3</th>\n",
       "      <td>459</td>\n",
       "      <td>india s reliance family feud heats up the ongo...</td>\n",
       "    </tr>\n",
       "    <tr>\n",
       "      <th>4</th>\n",
       "      <td>1020</td>\n",
       "      <td>boro suffer morrison injury blow middlesbrough...</td>\n",
       "    </tr>\n",
       "  </tbody>\n",
       "</table>\n",
       "</div>"
      ],
      "text/plain": [
       "   ArticleId                                               Text\n",
       "0       1018  qpr keeper day heads for preston queens park r...\n",
       "1       1319  software watching while you work software that...\n",
       "2       1138  d arcy injury adds to ireland woe gordon d arc...\n",
       "3        459  india s reliance family feud heats up the ongo...\n",
       "4       1020  boro suffer morrison injury blow middlesbrough..."
      ]
     },
     "execution_count": 4,
     "metadata": {},
     "output_type": "execute_result"
    }
   ],
   "source": [
    "df_test.head()"
   ]
  },
  {
   "cell_type": "code",
   "execution_count": 5,
   "id": "46861a4b-b891-4fd9-9131-df6e238bb0b8",
   "metadata": {},
   "outputs": [
    {
     "data": {
      "image/png": "[encoded data removed]",
      "text/plain": [
       "<Figure size 640x480 with 1 Axes>"
      ]
     },
     "metadata": {},
     "output_type": "display_data"
    }
   ],
   "source": [
    "value_counts = df_train['Category'].value_counts()\n",
    "plt.bar(value_counts.index, value_counts.values)\n",
    "plt.title('Frequency of Values in \"label\" column')\n",
    "plt.xlabel('Value')\n",
    "plt.ylabel('Frequency')\n",
    "plt.xticks(value_counts.index)  # Setting x-axis ticks to the unique values in 'target'\n",
    "plt.grid(axis='y')  # Add grid lines for better readability\n",
    "plt.show()"
   ]
  },
  {
   "cell_type": "code",
   "execution_count": 6,
   "id": "a8d42c68-2f82-4db5-bb98-c0e42ecffa3e",
   "metadata": {},
   "outputs": [],
   "source": [
    "model = TopicAnalysis()\n",
    "model.train_model(pd.concat([df_test['Text'], df_train['Text']]), num_topics=5)"
   ]
  },
  {
   "cell_type": "code",
   "execution_count": 7,
   "id": "f3976ecd-ad1a-4a1e-913e-0a9efa7e7385",
   "metadata": {},
   "outputs": [],
   "source": [
    "def get_topic_number(x):\n",
    "    result = model.model_text(x)\n",
    "    return np.argmax(result)\n",
    "    \n",
    "df_train['predictions'] = df_train['Text'].apply(get_topic_number)"
   ]
  },
  {
   "cell_type": "code",
   "execution_count": 8,
   "id": "aa1467b6-7d6d-4070-b135-d9d40955de01",
   "metadata": {},
   "outputs": [
    {
     "data": {
      "text/html": [
       "<div>\n",
       "<style scoped>\n",
       "    .dataframe tbody tr th:only-of-type {\n",
       "        vertical-align: middle;\n",
       "    }\n",
       "\n",
       "    .dataframe tbody tr th {\n",
       "        vertical-align: top;\n",
       "    }\n",
       "\n",
       "    .dataframe thead th {\n",
       "        text-align: right;\n",
       "    }\n",
       "</style>\n",
       "<table border=\"1\" class=\"dataframe\">\n",
       "  <thead>\n",
       "    <tr style=\"text-align: right;\">\n",
       "      <th></th>\n",
       "      <th>ArticleId</th>\n",
       "      <th>Text</th>\n",
       "      <th>Category</th>\n",
       "      <th>predictions</th>\n",
       "    </tr>\n",
       "  </thead>\n",
       "  <tbody>\n",
       "    <tr>\n",
       "      <th>0</th>\n",
       "      <td>1833</td>\n",
       "      <td>worldcom ex-boss launches defence lawyers defe...</td>\n",
       "      <td>business</td>\n",
       "      <td>1</td>\n",
       "    </tr>\n",
       "    <tr>\n",
       "      <th>1</th>\n",
       "      <td>154</td>\n",
       "      <td>german business confidence slides german busin...</td>\n",
       "      <td>business</td>\n",
       "      <td>2</td>\n",
       "    </tr>\n",
       "    <tr>\n",
       "      <th>2</th>\n",
       "      <td>1101</td>\n",
       "      <td>bbc poll indicates economic gloom citizens in ...</td>\n",
       "      <td>business</td>\n",
       "      <td>1</td>\n",
       "    </tr>\n",
       "    <tr>\n",
       "      <th>3</th>\n",
       "      <td>1976</td>\n",
       "      <td>lifestyle  governs mobile choice  faster  bett...</td>\n",
       "      <td>tech</td>\n",
       "      <td>4</td>\n",
       "    </tr>\n",
       "    <tr>\n",
       "      <th>4</th>\n",
       "      <td>917</td>\n",
       "      <td>enron bosses in $168m payout eighteen former e...</td>\n",
       "      <td>business</td>\n",
       "      <td>1</td>\n",
       "    </tr>\n",
       "  </tbody>\n",
       "</table>\n",
       "</div>"
      ],
      "text/plain": [
       "   ArticleId                                               Text  Category  \\\n",
       "0       1833  worldcom ex-boss launches defence lawyers defe...  business   \n",
       "1        154  german business confidence slides german busin...  business   \n",
       "2       1101  bbc poll indicates economic gloom citizens in ...  business   \n",
       "3       1976  lifestyle  governs mobile choice  faster  bett...      tech   \n",
       "4        917  enron bosses in $168m payout eighteen former e...  business   \n",
       "\n",
       "   predictions  \n",
       "0            1  \n",
       "1            2  \n",
       "2            1  \n",
       "3            4  \n",
       "4            1  "
      ]
     },
     "execution_count": 8,
     "metadata": {},
     "output_type": "execute_result"
    }
   ],
   "source": [
    "df_train.head()"
   ]
  },
  {
   "cell_type": "markdown",
   "id": "4c8af81b-8e58-49c9-8657-3f8ba8407de2",
   "metadata": {},
   "source": [
    "Now I have categorized everything, but I need to determine what the best matching of predicted category and category name is. I'll iterate through the different ways we can match the categories to the int predictions, calculate the resulting accuracy, and use the highest accuracy mapping. Then use that to label the test data."
   ]
  },
  {
   "cell_type": "code",
   "execution_count": 9,
   "id": "9fc73032-43bb-42a3-abb2-2825d657d329",
   "metadata": {},
   "outputs": [
    {
     "name": "stdout",
     "output_type": "stream",
     "text": [
      "Categories: ('business', 'politics', 'entertainment', 'sport', 'tech')\n",
      "With an accuracy of 0.6309\n"
     ]
    }
   ],
   "source": [
    "import itertools\n",
    "from sklearn.metrics import accuracy_score\n",
    "\n",
    "categories = df_train['Category'].unique().tolist()\n",
    "best_perm = None\n",
    "best_accuracy = -1\n",
    "\n",
    "for perm in itertools.permutations(categories):\n",
    "    prediction = df_train['predictions'].apply(lambda x: perm[x])\n",
    "\n",
    "    accuracy = accuracy_score(df_train['Category'], prediction)\n",
    "    if accuracy > best_accuracy:\n",
    "        best_accuracy = accuracy\n",
    "        best_perm = perm\n",
    "print(f'Categories: {best_perm}')\n",
    "print(f'With an accuracy of {round(best_accuracy, 4)}')"
   ]
  },
  {
   "cell_type": "markdown",
   "id": "d2a77975-63c2-43ed-adc3-4f1326a2002e",
   "metadata": {},
   "source": [
    "Originally I trained only on the train data, but realized I should be clustering on everything. Still underwhelming accuracy but much better than the low 50s I started out with."
   ]
  },
  {
   "cell_type": "code",
   "execution_count": 10,
   "id": "f1eff919-5401-40ab-9566-5301ee55329e",
   "metadata": {},
   "outputs": [],
   "source": [
    "def apply_category(x, permutation):\n",
    "    result = model.model_text(x)\n",
    "    return permutation[np.argmax(result)]\n",
    "df_test['Category'] = df_test['Text'].apply(lambda x: apply_category(x, best_perm))"
   ]
  },
  {
   "cell_type": "code",
   "execution_count": 11,
   "id": "b7061c96-e2a9-4f59-b10e-573531c230c0",
   "metadata": {},
   "outputs": [],
   "source": [
    "df_test[['ArticleId', 'Category']].to_csv('data/News/predictions.csv', index=False)"
   ]
  }
 ],
 "metadata": {
  "kernelspec": {
   "display_name": "Python 3 (ipykernel)",
   "language": "python",
   "name": "python3"
  },
  "language_info": {
   "codemirror_mode": {
    "name": "ipython",
    "version": 3
   },
   "file_extension": ".py",
   "mimetype": "text/x-python",
   "name": "python",
   "nbconvert_exporter": "python",
   "pygments_lexer": "ipython3",
   "version": "3.11.8"
  }
 },
 "nbformat": 4,
 "nbformat_minor": 5
}
